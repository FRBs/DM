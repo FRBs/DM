{
 "cells": [
  {
   "cell_type": "markdown",
   "metadata": {},
   "source": [
    "# Halo Scattering\n",
    "    v1 -- Mainly in the context of the FRB 181112 paper"
   ]
  },
  {
   "cell_type": "code",
   "execution_count": 1,
   "metadata": {},
   "outputs": [],
   "source": [
    "# imports\n",
    "import numpy as np\n",
    "from importlib import reload\n",
    "\n",
    "from astropy import units\n",
    "from astropy import constants\n",
    "\n",
    "from frb import turb_scattering as frb_scatt"
   ]
  },
  {
   "cell_type": "markdown",
   "metadata": {},
   "source": [
    "# Kolmogorov estimate\n",
    "\n",
    "## Equation 1 of Prochaska et al. 2019 by JP Macquart"
   ]
  },
  {
   "cell_type": "code",
   "execution_count": 3,
   "metadata": {},
   "outputs": [
    {
     "data": {
      "text/latex": [
       "$0.0019967429 \\; \\mathrm{\\frac{1}{cm^{3}}}$"
      ],
      "text/plain": [
       "<Quantity 0.00199674 1 / cm3>"
      ]
     },
     "execution_count": 3,
     "metadata": {},
     "output_type": "execute_result"
    }
   ],
   "source": [
    "reload(frb_scatt)\n",
    "z_FRB = 0.4755\n",
    "z_halo = 0.367\n",
    "n_e = frb_scatt.ne_from_tau_kolmogorov(40e-6*units.s, z_FRB, z_halo, \n",
    "                                       1.3*units.GHz, L0=1*units.kpc, L=50*units.kpc)#, debug=True)\n",
    "n_e"
   ]
  },
  {
   "cell_type": "markdown",
   "metadata": {},
   "source": [
    "### $\\tau = 1 $ms, $z_{\\rm FRB} = 1$, $z_{\\rm halo} = 0.5$, $\\nu = 1$GHz, $L_0 = 1$pc, $\\Delta L = 50$kpc"
   ]
  },
  {
   "cell_type": "code",
   "execution_count": 3,
   "metadata": {},
   "outputs": [
    {
     "data": {
      "text/latex": [
       "$0.00036792968 \\; \\mathrm{\\frac{1}{cm^{3}}}$"
      ],
      "text/plain": [
       "<Quantity 0.00036793 1 / cm3>"
      ]
     },
     "execution_count": 3,
     "metadata": {},
     "output_type": "execute_result"
    }
   ],
   "source": [
    "reload(frb_scatt)\n",
    "z_FRB = 1\n",
    "z_halo = 0.5\n",
    "n_e = frb_scatt.ne_from_tau_kolmogorov(1e-3*units.s, z_FRB, z_halo, 1*units.GHz, L0=1*units.pc, L=50*units.kpc)\n",
    "n_e.to('cm**-3')"
   ]
  },
  {
   "cell_type": "markdown",
   "metadata": {},
   "source": [
    "### $\\tau = 1 \\mu$s, $z_{\\rm FRB} = 2$, $z_{\\rm halo} = 1$, $\\nu = 1$GHz, $L_0 = 1$pc, $\\Delta L = 50$kpc"
   ]
  },
  {
   "cell_type": "code",
   "execution_count": 4,
   "metadata": {},
   "outputs": [
    {
     "name": "stdout",
     "output_type": "stream",
     "text": [
      "D_S 1.6979527083327575 Gpc\n",
      "D_L 1.2970408646071994 Gpc\n",
      "D_LS 0.7251720598773579 Gpc\n"
     ]
    },
    {
     "data": {
      "text/latex": [
       "$2.0690206 \\times 10^{-5} \\; \\mathrm{\\frac{1}{cm^{3}}}$"
      ],
      "text/plain": [
       "<Quantity 2.06902062e-05 1 / cm3>"
      ]
     },
     "execution_count": 4,
     "metadata": {},
     "output_type": "execute_result"
    }
   ],
   "source": [
    "z_FRB = 1\n",
    "z_halo = 0.5\n",
    "tau = 1e-6 * units.s\n",
    "n_e = frb_scatt.ne_from_tau_kolmogorov(tau, z_FRB, z_halo, 1*units.GHz, L0=1*units.pc, debug=True)\n",
    "n_e.to('cm**-3')"
   ]
  },
  {
   "cell_type": "markdown",
   "metadata": {},
   "source": [
    "# Mist\n",
    "    Formulated by Matt McQuinn in Prochaska+2019"
   ]
  },
  {
   "cell_type": "markdown",
   "metadata": {},
   "source": [
    "## $\\theta$"
   ]
  },
  {
   "cell_type": "code",
   "execution_count": 5,
   "metadata": {},
   "outputs": [
    {
     "data": {
      "text/latex": [
       "$5.7829581 \\times 10^{-6} \\; \\mathrm{{}^{\\prime\\prime}}$"
      ],
      "text/plain": [
       "<Quantity 5.78295809e-06 arcsec>"
      ]
     },
     "execution_count": 5,
     "metadata": {},
     "output_type": "execute_result"
    }
   ],
   "source": [
    "reload(frb_scatt)\n",
    "theta = frb_scatt.theta_mist(1e-3*units.cm**-3, 1*units.GHz)\n",
    "theta.to('arcsec')"
   ]
  },
  {
   "cell_type": "markdown",
   "metadata": {},
   "source": [
    "## $\\tau$"
   ]
  },
  {
   "cell_type": "code",
   "execution_count": 6,
   "metadata": {},
   "outputs": [
    {
     "data": {
      "text/latex": [
       "$1.1447648 \\times 10^{-5} \\; \\mathrm{s}$"
      ],
      "text/plain": [
       "<Quantity 1.14476478e-05 s>"
      ]
     },
     "execution_count": 6,
     "metadata": {},
     "output_type": "execute_result"
    }
   ],
   "source": [
    "reload(frb_scatt)\n",
    "tau = frb_scatt.tau_mist(1e-3*units.cm**-3, 1*units.GHz, 0.4, 0.3)\n",
    "tau"
   ]
  },
  {
   "cell_type": "markdown",
   "metadata": {},
   "source": [
    "## n_e from $\\tau$"
   ]
  },
  {
   "cell_type": "markdown",
   "metadata": {},
   "source": [
    "### Test values in Prochaska+19"
   ]
  },
  {
   "cell_type": "code",
   "execution_count": 7,
   "metadata": {},
   "outputs": [
    {
     "name": "stdout",
     "output_type": "stream",
     "text": [
      "In R>0.010968395912902978 pc limit\n"
     ]
    },
    {
     "data": {
      "text/latex": [
       "$0.50590284 \\; \\mathrm{\\frac{1}{cm^{3}}}$"
      ],
      "text/plain": [
       "<Quantity 0.50590284 1 / cm3>"
      ]
     },
     "execution_count": 7,
     "metadata": {},
     "output_type": "execute_result"
    }
   ],
   "source": [
    "reload(frb_scatt)\n",
    "z_FRB = 0.4755\n",
    "z_halo = 0.367\n",
    "n_e = frb_scatt.ne_from_tau_mist(40e-6*units.s, z_FRB, z_halo, \n",
    "                                 1.3*units.GHz, L=50*units.kpc, fV=1e-3, R=0.1*units.pc,\n",
    "                                 verbose=True)\n",
    "n_e"
   ]
  },
  {
   "cell_type": "code",
   "execution_count": 8,
   "metadata": {},
   "outputs": [
    {
     "name": "stdout",
     "output_type": "stream",
     "text": [
      "In R<0.010968395912902978 pc limit\n"
     ]
    },
    {
     "data": {
      "text/latex": [
       "$0.00023830648 \\; \\mathrm{\\frac{1}{cm^{3}}}$"
      ],
      "text/plain": [
       "<Quantity 0.00023831 1 / cm3>"
      ]
     },
     "execution_count": 8,
     "metadata": {},
     "output_type": "execute_result"
    }
   ],
   "source": [
    "n_e = frb_scatt.ne_from_tau_mist(40e-6*units.s, z_FRB, z_halo, \n",
    "                                 1*units.GHz, verbose=True, R=0.005*units.pc)\n",
    "n_e"
   ]
  },
  {
   "cell_type": "markdown",
   "metadata": {},
   "source": [
    "### $\\tau = 1 $ms, $z_{\\rm FRB} = 1$, $z_{\\rm halo} = 0.5$, $\\nu = 1$GHz, $L_0 = 1$pc, $\\Delta L = 50$kpc"
   ]
  },
  {
   "cell_type": "code",
   "execution_count": 9,
   "metadata": {},
   "outputs": [
    {
     "name": "stdout",
     "output_type": "stream",
     "text": [
      "In R>0.07890462867024899 pc limit\n"
     ]
    },
    {
     "data": {
      "text/latex": [
       "$4.5730052 \\; \\mathrm{\\frac{1}{cm^{3}}}$"
      ],
      "text/plain": [
       "<Quantity 4.57300524 1 / cm3>"
      ]
     },
     "execution_count": 9,
     "metadata": {},
     "output_type": "execute_result"
    }
   ],
   "source": [
    "reload(frb_scatt)\n",
    "z_FRB = 1.\n",
    "z_halo = 0.5\n",
    "n_e = frb_scatt.ne_from_tau_mist(1e-3*units.s, z_FRB, z_halo, 1*units.GHz, \n",
    "                                 L=50*units.kpc, R=1*units.pc, fV=1e-3, verbose=True)\n",
    "n_e"
   ]
  },
  {
   "cell_type": "markdown",
   "metadata": {},
   "source": [
    "### $\\tau = 1 \\mu$s, $z_{\\rm FRB} = 2$, $z_{\\rm halo} = 1$, $\\nu = 1$GHz, $L_0 = 1$pc, $\\Delta L = 50$kpc"
   ]
  },
  {
   "cell_type": "code",
   "execution_count": 10,
   "metadata": {},
   "outputs": [
    {
     "name": "stdout",
     "output_type": "stream",
     "text": [
      "In R>0.0019676053338867545 pc limit\n"
     ]
    },
    {
     "data": {
      "text/latex": [
       "$7.3541194 \\; \\mathrm{\\frac{1}{cm^{3}}}$"
      ],
      "text/plain": [
       "<Quantity 7.35411941 1 / cm3>"
      ]
     },
     "execution_count": 10,
     "metadata": {},
     "output_type": "execute_result"
    }
   ],
   "source": [
    "reload(frb_scatt)\n",
    "z_FRB = 2\n",
    "z_halo = 1\n",
    "n_e = frb_scatt.ne_from_tau_mist(1e-6*units.s, z_FRB, z_halo, 1*units.GHz, \n",
    "                                 L=50*units.kpc, R=1*units.pc, fV=1e-3, verbose=True)\n",
    "n_e"
   ]
  },
  {
   "cell_type": "markdown",
   "metadata": {},
   "source": [
    "----"
   ]
  },
  {
   "cell_type": "markdown",
   "metadata": {},
   "source": [
    "# Tests"
   ]
  },
  {
   "cell_type": "markdown",
   "metadata": {},
   "source": [
    "## JP's notes"
   ]
  },
  {
   "cell_type": "code",
   "execution_count": 24,
   "metadata": {},
   "outputs": [
    {
     "data": {
      "text/latex": [
       "$4.5627754 \\times 10^{-14} \\; \\mathrm{\\frac{1}{m^{2}}}$"
      ],
      "text/plain": [
       "<Quantity 4.56277542e-14 1 / m2>"
      ]
     },
     "execution_count": 24,
     "metadata": {},
     "output_type": "execute_result"
    }
   ],
   "source": [
    "tau = 40e-6 * units.s\n",
    "L0 = 1 * units.kpc\n",
    "DL = 50*units.kpc\n",
    "l0 = 0.23 * units.m\n",
    "zL = 0.36\n",
    "DS = 1.23 * units.Gpc\n",
    "DL = 1.045 * units.Gpc\n",
    "DLS = 0.262 * units.Gpc\n",
    "#\n",
    "n_e = 1.61 * L0**(1/3) * DL**(-1/2) * tau**(5/12) * (1+zL)**(17/12) * l0**(-22/12) * (DL*DLS/DS/constants.c)**(-5/12)\n",
    "n_e.decompose()"
   ]
  },
  {
   "cell_type": "code",
   "execution_count": 23,
   "metadata": {},
   "outputs": [
    {
     "data": {
      "text/plain": [
       "-371.0"
      ]
     },
     "execution_count": 23,
     "metadata": {},
     "output_type": "execute_result"
    }
   ],
   "source": [
    "(20-30-122*6)/2"
   ]
  },
  {
   "cell_type": "code",
   "execution_count": 36,
   "metadata": {},
   "outputs": [
    {
     "data": {
      "text/plain": [
       "0.05499999999999999"
      ]
     },
     "execution_count": 36,
     "metadata": {},
     "output_type": "execute_result"
    }
   ],
   "source": [
    "0.011 * np.sqrt(1e-3/40e-6)"
   ]
  },
  {
   "cell_type": "code",
   "execution_count": null,
   "metadata": {},
   "outputs": [],
   "source": []
  }
 ],
 "metadata": {
  "kernelspec": {
   "display_name": "Python 3",
   "language": "python",
   "name": "python3"
  },
  "language_info": {
   "codemirror_mode": {
    "name": "ipython",
    "version": 3
   },
   "file_extension": ".py",
   "mimetype": "text/x-python",
   "name": "python",
   "nbconvert_exporter": "python",
   "pygments_lexer": "ipython3",
   "version": "3.7.6"
  }
 },
 "nbformat": 4,
 "nbformat_minor": 2
}
