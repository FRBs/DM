{
 "cells": [
  {
   "cell_type": "markdown",
   "metadata": {},
   "source": [
    "# Reading FRB Cat [v1.3]\n",
    "    v1.2 -- Update in 2018\n",
    "    v1.3 -- Update on 07 Dec 2019\n",
    "    \n",
    "    http://frbcat.org/"
   ]
  },
  {
   "cell_type": "code",
   "execution_count": 1,
   "metadata": {},
   "outputs": [],
   "source": [
    "# imports\n",
    "from imp import reload\n",
    "import numpy as np\n",
    "from matplotlib import pyplot as plt\n",
    "\n",
    "from astropy.table import Table\n",
    "from astropy.time import Time\n",
    "\n",
    "from frb import frbcat as ffcat\n",
    "from frb import experiment"
   ]
  },
  {
   "cell_type": "markdown",
   "metadata": {},
   "source": [
    "## Load with 2018 format"
   ]
  },
  {
   "cell_type": "code",
   "execution_count": 2,
   "metadata": {},
   "outputs": [
    {
     "name": "stdout",
     "output_type": "stream",
     "text": [
      "Using /home/xavier/Projects/FRB/frb/data/FRBs/frbcat_2019-12-07.csv for the FRB catalog\n"
     ]
    }
   ],
   "source": [
    "reload(ffcat)\n",
    "obs = ffcat.FRBCat()"
   ]
  },
  {
   "cell_type": "code",
   "execution_count": 3,
   "metadata": {},
   "outputs": [],
   "source": [
    "obs.frbcat.sort('frb_name')"
   ]
  },
  {
   "cell_type": "code",
   "execution_count": 4,
   "metadata": {},
   "outputs": [
    {
     "data": {
      "text/html": [
       "<i>Table length=5</i>\n",
       "<table id=\"table140302596695096\" class=\"table-striped table-bordered table-condensed\">\n",
       "<thead><tr><th>frb_name</th><th>utc</th><th>telescope</th><th>rop_raj</th><th>rop_decj</th><th>rop_gl</th><th>rop_gb</th><th>rmp_dm</th><th>rmp_width</th><th>rmp_snr</th><th>RA</th><th>DEC</th></tr></thead>\n",
       "<thead><tr><th>str18</th><th>str23</th><th>str9</th><th>str12</th><th>str12</th><th>float64</th><th>float64</th><th>str19</th><th>float64</th><th>float64</th><th>float64</th><th>float64</th></tr></thead>\n",
       "<tr><td>FRB181228</td><td>2018-12-28 13:48:50.100</td><td>UTMOST</td><td>06:09:23.64</td><td>-45:58:02.4</td><td>253.3915</td><td>-26.0633</td><td>354.2&amp;plusmn0.9</td><td>1.24</td><td>12.0</td><td>92.47723726394653</td><td>-45.98330613177865</td></tr>\n",
       "<tr><td>FRB190116.J1249+27</td><td>2019-01-16 13:07:33.833</td><td>CHIME/FRB</td><td>12:49</td><td>27:09</td><td>210.5</td><td>89.5</td><td>444&amp;plusmn0.6</td><td>4.0</td><td>0.0</td><td>192.29807580812846</td><td>27.14835236872834</td></tr>\n",
       "<tr><td>FRB190209.J0937+77</td><td>2019-02-09 08:20:20.977</td><td>CHIME/FRB</td><td>09:37</td><td>77:40</td><td>134.2</td><td>34.8</td><td>424.6&amp;plusmn0.6</td><td>3.7</td><td>0.0</td><td>144.10993259332915</td><td>77.67748003429321</td></tr>\n",
       "<tr><td>FRB190222.J2052+69</td><td>2019-02-22 18:46:01.367</td><td>CHIME/FRB</td><td>20:52</td><td>69:50</td><td>104.9</td><td>15.9</td><td>460.6&amp;plusmn0.1</td><td>2.97</td><td>0.0</td><td>313.0466791352272</td><td>69.85418471743013</td></tr>\n",
       "<tr><td>FRB190523</td><td>2019-05-23 06:05:55.815</td><td>DSA-10</td><td>13:48:15.6</td><td>+72:28:11</td><td>117.03</td><td>44.0</td><td>760.8&amp;plusmn0.6</td><td>0.42</td><td>11.5</td><td>207.075575740478</td><td>72.47075196238896</td></tr>\n",
       "</table>"
      ],
      "text/plain": [
       "<Table length=5>\n",
       "     frb_name                utc           ...        DEC        \n",
       "      str18                 str23          ...      float64      \n",
       "------------------ ----------------------- ... ------------------\n",
       "         FRB181228 2018-12-28 13:48:50.100 ... -45.98330613177865\n",
       "FRB190116.J1249+27 2019-01-16 13:07:33.833 ...  27.14835236872834\n",
       "FRB190209.J0937+77 2019-02-09 08:20:20.977 ...  77.67748003429321\n",
       "FRB190222.J2052+69 2019-02-22 18:46:01.367 ...  69.85418471743013\n",
       "         FRB190523 2019-05-23 06:05:55.815 ...  72.47075196238896"
      ]
     },
     "execution_count": 4,
     "metadata": {},
     "output_type": "execute_result"
    }
   ],
   "source": [
    "obs.frbcat[-5:]"
   ]
  },
  {
   "cell_type": "code",
   "execution_count": 5,
   "metadata": {},
   "outputs": [
    {
     "data": {
      "text/html": [
       "<i>Table length=20</i>\n",
       "<table id=\"table140302596695040\" class=\"table-striped table-bordered table-condensed\">\n",
       "<thead><tr><th>frb_name</th><th>utc</th><th>telescope</th><th>rop_raj</th><th>rop_decj</th><th>rop_gl</th><th>rop_gb</th><th>rmp_dm</th><th>rmp_width</th><th>rmp_snr</th><th>RA</th><th>DEC</th></tr></thead>\n",
       "<thead><tr><th>str18</th><th>str23</th><th>str9</th><th>str12</th><th>str12</th><th>float64</th><th>float64</th><th>str19</th><th>float64</th><th>float64</th><th>float64</th><th>float64</th></tr></thead>\n",
       "<tr><td>FRB010125</td><td>2001-01-25 00:29:15.790</td><td>parkes</td><td>19:06:53</td><td>-40:37:14</td><td>356.641</td><td>-20.0206</td><td>790&amp;plusmn3</td><td>9.4</td><td>17.0</td><td>286.72072305094264</td><td>-40.62064517309942</td></tr>\n",
       "<tr><td>FRB010312</td><td>2001-03-12 11:06:47.980</td><td>parkes</td><td>05:26:54.9</td><td>-64:56:19.2</td><td>274.72</td><td>-33.3</td><td>1187&amp;plusmn14</td><td>24.3</td><td>11.0</td><td>81.71890591818621</td><td>-64.93631423273322</td></tr>\n",
       "<tr><td>FRB010621</td><td>2001-06-21 13:02:11.299</td><td>parkes</td><td>18:52:05</td><td>-08:29:35</td><td>25.434</td><td>-4.00381</td><td>745&amp;plusmn10</td><td>7.0</td><td>16.3</td><td>283.0208291465951</td><td>-8.493049586958135</td></tr>\n",
       "<tr><td>FRB010724</td><td>2001-07-24 19:50:01.690</td><td>parkes</td><td>01:18:06</td><td>-75:12:18</td><td>300.653</td><td>-41.8051</td><td>375</td><td>5.0</td><td>23.0</td><td>19.525065904947255</td><td>-75.20496347123685</td></tr>\n",
       "<tr><td>FRB090625</td><td>2009-06-25 21:53:51.379</td><td>parkes</td><td>03:07:47</td><td>-29:55:36</td><td>226.444</td><td>-60.0303</td><td>899.55&amp;plusmn0.01</td><td>1.92</td><td>30.0</td><td>46.94584178165078</td><td>-29.926709866601552</td></tr>\n",
       "<tr><td>FRB110214</td><td>2011-02-14 07:14:10.353</td><td>parkes</td><td>01:21:17</td><td>-49:47:11</td><td>290.7</td><td>-66.6</td><td>168.9&amp;plusmn0.5</td><td>1.9</td><td>13.0</td><td>20.351647596049716</td><td>-49.81046938710202</td></tr>\n",
       "<tr><td>FRB110220</td><td>2011-02-20 01:55:48.096</td><td>parkes</td><td>22:34:38</td><td>-12:23:45</td><td>50.829</td><td>-54.7663</td><td>944.38&amp;plusmn0.05</td><td>5.6</td><td>49.0</td><td>338.65833967919855</td><td>-12.395829957098739</td></tr>\n",
       "<tr><td>FRB110523</td><td>2011-05-23 15:06:19.700</td><td>GBT</td><td>21:45:12</td><td>-00:09:37</td><td>56.12</td><td>-37.82</td><td>623.3&amp;plusmn0.06</td><td>1.73</td><td>42.0</td><td>326.2965238534899</td><td>-0.15926998703343367</td></tr>\n",
       "<tr><td>FRB110626</td><td>2011-06-26 21:33:17.477</td><td>parkes</td><td>21:03:43</td><td>-44:44:19</td><td>355.862</td><td>-41.7522</td><td>723&amp;plusmn0.3</td><td>1.4</td><td>11.0</td><td>315.9291924469609</td><td>-44.73847978976432</td></tr>\n",
       "<tr><td>FRB110703</td><td>2011-07-03 18:59:40.607</td><td>parkes</td><td>23:30:51</td><td>-02:52:24</td><td>80.9978</td><td>-59.0191</td><td>1103.6&amp;plusmn0.7</td><td>4.3</td><td>16.0</td><td>352.71250345649395</td><td>-2.8733513425079926</td></tr>\n",
       "<tr><td>FRB120127</td><td>2012-01-27 08:11:21.725</td><td>parkes</td><td>23:15:06</td><td>-18:25:38</td><td>49.2871</td><td>-66.2037</td><td>553.3&amp;plusmn0.3</td><td>1.1</td><td>11.0</td><td>348.7750050379304</td><td>-18.42723215173697</td></tr>\n",
       "<tr><td>FRB121002</td><td>2012-10-02 13:09:18.436</td><td>parkes</td><td>18:14:47</td><td>-85:11:53</td><td>308.22</td><td>-26.2647</td><td>1629.18&amp;plusmn0.02</td><td>5.44</td><td>16.0</td><td>273.6967687919654</td><td>-85.19777502573858</td></tr>\n",
       "<tr><td>FRB121102</td><td>2012-11-02 06:35:53.244</td><td>arecibo</td><td>05:32:09</td><td>33:05:13</td><td>174.95</td><td>-0.225138</td><td>557&amp;plusmn2</td><td>3.0</td><td>14.0</td><td>83.03733147397499</td><td>33.08715440393463</td></tr>\n",
       "<tr><td>FRB130626</td><td>2013-06-26 14:55:59.771</td><td>parkes</td><td>16:27:06</td><td>-07:27:48</td><td>7.45003</td><td>27.4203</td><td>952.4&amp;plusmn0.1</td><td>1.98</td><td>21.0</td><td>246.77495842935215</td><td>-7.4633132463924605</td></tr>\n",
       "<tr><td>FRB130628</td><td>2013-06-28 03:58:00.178</td><td>parkes</td><td>09:03:02</td><td>03:26:16</td><td>225.955</td><td>30.6556</td><td>469.88&amp;plusmn0.01</td><td>0.64</td><td>29.0</td><td>135.7581186508183</td><td>3.438101042303216</td></tr>\n",
       "<tr><td>FRB130729</td><td>2013-07-29 09:01:51.190</td><td>parkes</td><td>13:41:21</td><td>-05:59:43</td><td>324.788</td><td>54.7446</td><td>861&amp;plusmn2</td><td>15.61</td><td>14.0</td><td>205.33766462069678</td><td>-5.995193975709084</td></tr>\n",
       "<tr><td>FRB131104</td><td>2013-11-04 18:04:11.200</td><td>parkes</td><td>06:44:10</td><td>-51:16:40</td><td>260.55</td><td>-21.9253</td><td>779&amp;plusmn1</td><td>2.08</td><td>30.0</td><td>101.0403428601284</td><td>-51.271538619174756</td></tr>\n",
       "<tr><td>FRB140514</td><td>2014-05-14 17:14:11.060</td><td>parkes</td><td>22:34:06</td><td>-12:18:46</td><td>50.8413</td><td>-54.612</td><td>562.7&amp;plusmn0.6</td><td>2.8</td><td>16.0</td><td>338.5250223506901</td><td>-12.312768823204856</td></tr>\n",
       "<tr><td>FRB141113</td><td>2014-11-13 07:42:55.220</td><td>arecibo</td><td>06:13:00.1</td><td>18:47:11.2</td><td>191.9</td><td>0.36</td><td>400.3</td><td>2.0</td><td>8.4</td><td>93.24840124523706</td><td>18.799947101323646</td></tr>\n",
       "<tr><td>FRB150215</td><td>2015-02-15 20:41:41.714</td><td>parkes</td><td>18:17:27</td><td>-04:54:15</td><td>24.6628</td><td>5.28092</td><td>1105.6&amp;plusmn0.8</td><td>2.88</td><td>19.0</td><td>274.36250785471003</td><td>-4.9041513275113635</td></tr>\n",
       "</table>"
      ],
      "text/plain": [
       "<Table length=20>\n",
       " frb_name           utc           ...         RA                 DEC         \n",
       "  str18            str23          ...      float64             float64       \n",
       "--------- ----------------------- ... ------------------ --------------------\n",
       "FRB010125 2001-01-25 00:29:15.790 ... 286.72072305094264   -40.62064517309942\n",
       "FRB010312 2001-03-12 11:06:47.980 ...  81.71890591818621   -64.93631423273322\n",
       "FRB010621 2001-06-21 13:02:11.299 ...  283.0208291465951   -8.493049586958135\n",
       "FRB010724 2001-07-24 19:50:01.690 ... 19.525065904947255   -75.20496347123685\n",
       "FRB090625 2009-06-25 21:53:51.379 ...  46.94584178165078  -29.926709866601552\n",
       "FRB110214 2011-02-14 07:14:10.353 ... 20.351647596049716   -49.81046938710202\n",
       "FRB110220 2011-02-20 01:55:48.096 ... 338.65833967919855  -12.395829957098739\n",
       "FRB110523 2011-05-23 15:06:19.700 ...  326.2965238534899 -0.15926998703343367\n",
       "FRB110626 2011-06-26 21:33:17.477 ...  315.9291924469609   -44.73847978976432\n",
       "FRB110703 2011-07-03 18:59:40.607 ... 352.71250345649395  -2.8733513425079926\n",
       "FRB120127 2012-01-27 08:11:21.725 ...  348.7750050379304   -18.42723215173697\n",
       "FRB121002 2012-10-02 13:09:18.436 ...  273.6967687919654   -85.19777502573858\n",
       "FRB121102 2012-11-02 06:35:53.244 ...  83.03733147397499    33.08715440393463\n",
       "FRB130626 2013-06-26 14:55:59.771 ... 246.77495842935215  -7.4633132463924605\n",
       "FRB130628 2013-06-28 03:58:00.178 ...  135.7581186508183    3.438101042303216\n",
       "FRB130729 2013-07-29 09:01:51.190 ... 205.33766462069678   -5.995193975709084\n",
       "FRB131104 2013-11-04 18:04:11.200 ...  101.0403428601284  -51.271538619174756\n",
       "FRB140514 2014-05-14 17:14:11.060 ...  338.5250223506901  -12.312768823204856\n",
       "FRB141113 2014-11-13 07:42:55.220 ...  93.24840124523706   18.799947101323646\n",
       "FRB150215 2015-02-15 20:41:41.714 ... 274.36250785471003  -4.9041513275113635"
      ]
     },
     "execution_count": 5,
     "metadata": {},
     "output_type": "execute_result"
    }
   ],
   "source": [
    "obs.frbcat[0:20]"
   ]
  },
  {
   "cell_type": "markdown",
   "metadata": {},
   "source": [
    "### Simple histogram"
   ]
  },
  {
   "cell_type": "code",
   "execution_count": 6,
   "metadata": {},
   "outputs": [],
   "source": [
    "times = Time(obs.frbcat['utc'])"
   ]
  },
  {
   "cell_type": "code",
   "execution_count": 7,
   "metadata": {},
   "outputs": [
    {
     "data": {
      "text/plain": [
       "array([2001.06644852, 2001.19360179, 2001.47034411, 2001.56146861,\n",
       "       2009.48230637, 2011.12060646, 2011.13642825, 2011.38981354,\n",
       "       2011.48363619, 2011.50250908, 2012.07074941, 2012.75304074,\n",
       "       2012.83716611, 2013.48424975, 2013.48847441, 2013.57392549,\n",
       "       2013.843266  , 2014.36610043, 2014.86604099, 2015.12487964,\n",
       "       2015.29277723, 2015.43799336, 2015.59820886, 2015.79341737,\n",
       "       2015.92816541, 2015.9950106 , 2016.00233603, 2016.20773559,\n",
       "       2016.27339277, 2016.43439238, 2016.71903893, 2017.01940287,\n",
       "       2017.29080389, 2017.3230713 , 2017.42893652, 2017.51338043,\n",
       "       2017.5278772 , 2017.65415678, 2017.68116766, 2017.72477671,\n",
       "       2017.7540638 , 2017.75671848, 2017.79893275, 2017.80133086,\n",
       "       2017.87576917, 2017.93937636, 2017.94962103, 2017.95824622,\n",
       "       2018.02550495, 2018.05069716, 2018.07403537, 2018.0744799 ,\n",
       "       2018.0799595 , 2018.0827916 , 2018.1176992 , 2018.18375837,\n",
       "       2018.18939066, 2018.20044398, 2018.22559088, 2018.29173039,\n",
       "       2018.32694615, 2018.36937684, 2018.395998  , 2018.40296603,\n",
       "       2018.5322841 , 2018.56331194, 2018.56683412, 2018.57420394,\n",
       "       2018.57230269, 2018.57536207, 2018.58142681, 2018.59573552,\n",
       "       2018.6070593 , 2018.60765212, 2018.61188217, 2018.61770819,\n",
       "       2018.61765199, 2018.62443786, 2018.70753542, 2018.73013767,\n",
       "       2018.78898954, 2018.79242646, 2018.79391246, 2018.82731238,\n",
       "       2018.86442174, 2018.88350645, 2018.90719388, 2018.98993999,\n",
       "       2019.04188068, 2019.10704303, 2019.14382467, 2019.38878609])"
      ]
     },
     "execution_count": 7,
     "metadata": {},
     "output_type": "execute_result"
    }
   ],
   "source": [
    "times.jyear"
   ]
  },
  {
   "cell_type": "code",
   "execution_count": 8,
   "metadata": {},
   "outputs": [
    {
     "data": {
      "text/plain": [
       "array([2001, 2002, 2003, 2004, 2005, 2006, 2007, 2008, 2009, 2010, 2011,\n",
       "       2012, 2013, 2014, 2015, 2016, 2017, 2018, 2019])"
      ]
     },
     "execution_count": 8,
     "metadata": {},
     "output_type": "execute_result"
    }
   ],
   "source": [
    "bins = np.arange(2001, 2020,1)\n",
    "bins"
   ]
  },
  {
   "cell_type": "code",
   "execution_count": 9,
   "metadata": {},
   "outputs": [
    {
     "data": {
      "image/png": "[encoded data removed]",
      "text/plain": [
       "<Figure size 432x288 with 1 Axes>"
      ]
     },
     "metadata": {
      "needs_background": "light"
     },
     "output_type": "display_data"
    }
   ],
   "source": [
    "plt.clf()\n",
    "ax = plt.gca()\n",
    "ax.hist(times.jyear, bins=bins)\n",
    "#\n",
    "plt.show()"
   ]
  },
  {
   "cell_type": "markdown",
   "metadata": {},
   "source": [
    "## Load an old one"
   ]
  },
  {
   "cell_type": "code",
   "execution_count": 10,
   "metadata": {},
   "outputs": [
    {
     "name": "stdout",
     "output_type": "stream",
     "text": [
      "Using /home/xavier/Projects/FRB/frb/data/FRBs/frbcat_2017-04-06.csv for the FRB catalog\n"
     ]
    },
    {
     "data": {
      "text/plain": [
       "<FRBCat:  FRB Catalog with 21 sources\n",
       ">"
      ]
     },
     "execution_count": 10,
     "metadata": {},
     "output_type": "execute_result"
    }
   ],
   "source": [
    "reload(ffcat)\n",
    "obs = ffcat.FRBCat(frbcat_file='frbcat_2017-04-06.csv')\n",
    "obs"
   ]
  },
  {
   "cell_type": "code",
   "execution_count": 11,
   "metadata": {},
   "outputs": [
    {
     "data": {
      "text/html": [
       "<i>Table masked=True length=5</i>\n",
       "<table id=\"table140302595723784\" class=\"table-striped table-bordered table-condensed\">\n",
       "<thead><tr><th>Name</th><th>Telescope</th><th>Type</th><th>UTC</th><th>Beam</th><th>Receiver</th><th>Backend</th><th>RAJ</th><th>DECJ</th><th>Pointing Error</th><th>FWHM</th><th>Sampling Time</th><th>Bandwidth</th><th>Centre Frequnecy</th><th>Bits per Sample</th><th>Gain</th><th>System Temperature</th><th>NE2001 DM Limit</th><th>DM</th><th>DM error</th><th>SNR</th><th>Width</th><th>Width error lower</th><th>Width error upper</th><th>Flux</th><th>Flux error lower</th><th>Flux error upper</th><th>DM Index</th><th>DM Index Error</th><th>Scattering Index</th><th>Scattering Index Error</th><th>Scattering Time</th><th>Scattering Time Error</th><th>Linear Polarization Fraction</th><th>Linear Polarization Fraction Error</th><th>Circular Polarization Fraction</th><th>Circular Polarization Fraction Error</th><th>Photometric Redshift</th><th>Photometric Redshift Error</th><th>Spectroscopic Redshift</th><th>Spectroscopic Redshift Error</th><th>Reference</th><th>RA</th><th>DEC</th></tr></thead>\n",
       "<thead><tr><th>str9</th><th>str7</th><th>str5</th><th>str19</th><th>int64</th><th>str6</th><th>str18</th><th>str8</th><th>str9</th><th>int64</th><th>float64</th><th>float64</th><th>float64</th><th>int64</th><th>int64</th><th>float64</th><th>float64</th><th>float64</th><th>float64</th><th>float64</th><th>float64</th><th>float64</th><th>float64</th><th>float64</th><th>float64</th><th>float64</th><th>float64</th><th>float64</th><th>float64</th><th>float64</th><th>float64</th><th>float64</th><th>float64</th><th>float64</th><th>float64</th><th>int64</th><th>float64</th><th>float64</th><th>float64</th><th>float64</th><th>float64</th><th>str97</th><th>float64</th><th>float64</th></tr></thead>\n",
       "<tr><td>FRB010125</td><td>parkes</td><td>radio</td><td>2001-01-25 00:29:14</td><td>5</td><td>MB20</td><td>AFB</td><td>19:06:53</td><td>-40:37:14</td><td>11</td><td>15.0</td><td>0.125</td><td>288.0</td><td>--</td><td>1</td><td>0.69</td><td>28.0</td><td>110.0</td><td>790.0</td><td>3.0</td><td>17.0</td><td>9.4</td><td>0.2</td><td>0.2</td><td>0.3</td><td>--</td><td>--</td><td>2.0</td><td>0.01</td><td>-4.2</td><td>1.2</td><td>--</td><td>--</td><td>--</td><td>--</td><td>--</td><td>--</td><td>--</td><td>--</td><td>--</td><td>--</td><td>Burke-Spolaor S., Bannister K. W., 2014, ApJ, 792, 19</td><td>286.7208333333333</td><td>-40.620555555555555</td></tr>\n",
       "<tr><td>FRB010125</td><td>parkes</td><td>radio</td><td>2001-01-25 00:29:14</td><td>5</td><td>MB20</td><td>AFB</td><td>19:06:53</td><td>-40:37:14</td><td>11</td><td>15.0</td><td>0.125</td><td>288.0</td><td>--</td><td>1</td><td>0.69</td><td>28.0</td><td>110.0</td><td>790.3</td><td>3.0</td><td>25.0</td><td>10.6</td><td>2.5</td><td>2.8</td><td>0.54</td><td>0.07</td><td>0.11</td><td>--</td><td>--</td><td>--</td><td>--</td><td>--</td><td>--</td><td>--</td><td>--</td><td>--</td><td>--</td><td>--</td><td>--</td><td>--</td><td>--</td><td>Burke-Spolaor S., Bannister K. W., 2014, ApJ, 792, 19</td><td>286.7208333333333</td><td>-40.620555555555555</td></tr>\n",
       "<tr><td>FRB010621</td><td>parkes</td><td>radio</td><td>2001-06-21 13:02:09</td><td>10</td><td>MB20</td><td>AFB</td><td>18:52:05</td><td>-08:29:35</td><td>11</td><td>15.0</td><td>0.25</td><td>288.0</td><td>--</td><td>1</td><td>0.581</td><td>28.0</td><td>523.0</td><td>748.0</td><td>3.0</td><td>18.0</td><td>8.0</td><td>2.25</td><td>4.0</td><td>0.53</td><td>0.09</td><td>0.26</td><td>--</td><td>--</td><td>--</td><td>--</td><td>--</td><td>--</td><td>--</td><td>--</td><td>--</td><td>--</td><td>--</td><td>--</td><td>--</td><td>--</td><td>Keane E. F., Kramer M., Lyne A. G., Stappers B. W., McLaughlin M. A., 2011, MNRAS, 415, 3065</td><td>283.0208333333333</td><td>-8.493055555555555</td></tr>\n",
       "<tr><td>FRB010621</td><td>parkes</td><td>radio</td><td>2001-06-21 13:02:09</td><td>10</td><td>MB20</td><td>AFB</td><td>18:52:05</td><td>-08:29:35</td><td>11</td><td>15.0</td><td>0.25</td><td>288.0</td><td>--</td><td>1</td><td>0.581</td><td>28.0</td><td>523.0</td><td>745.0</td><td>10.0</td><td>--</td><td>7.0</td><td>--</td><td>--</td><td>0.41</td><td>--</td><td>--</td><td>2.02</td><td>0.01</td><td>--</td><td>--</td><td>--</td><td>--</td><td>--</td><td>--</td><td>--</td><td>--</td><td>--</td><td>--</td><td>--</td><td>--</td><td>Keane E. F., Kramer M., Lyne A. G., Stappers B. W., McLaughlin M. A., 2011, MNRAS, 415, 3065</td><td>283.0208333333333</td><td>-8.493055555555555</td></tr>\n",
       "<tr><td>FRB010724</td><td>parkes</td><td>radio</td><td>2001-07-24 19:50:00</td><td>6</td><td>MB20</td><td>AFB</td><td>01:18:06</td><td>-75:12:18</td><td>11</td><td>15.0</td><td>1.0</td><td>288.0</td><td>--</td><td>1</td><td>0.69</td><td>28.0</td><td>44.58</td><td>375.0</td><td>3.0</td><td>100.0</td><td>20.0</td><td>0.0</td><td>0.0</td><td>1.574</td><td>0.0</td><td>0.0</td><td>--</td><td>--</td><td>--</td><td>--</td><td>--</td><td>--</td><td>--</td><td>--</td><td>--</td><td>--</td><td>--</td><td>--</td><td>--</td><td>--</td><td>Lorimer D. R., Bailes M., McLaughlin M. A., Narkevic, D. J., Crawford F., 2007, Science, 318, 777</td><td>19.525</td><td>-75.205</td></tr>\n",
       "</table>"
      ],
      "text/plain": [
       "<Table masked=True length=5>\n",
       "   Name   Telescope  Type ...         RA                DEC        \n",
       "   str9      str7    str5 ...      float64            float64      \n",
       "--------- --------- ----- ... ----------------- -------------------\n",
       "FRB010125    parkes radio ... 286.7208333333333 -40.620555555555555\n",
       "FRB010125    parkes radio ... 286.7208333333333 -40.620555555555555\n",
       "FRB010621    parkes radio ... 283.0208333333333  -8.493055555555555\n",
       "FRB010621    parkes radio ... 283.0208333333333  -8.493055555555555\n",
       "FRB010724    parkes radio ...            19.525             -75.205"
      ]
     },
     "execution_count": 11,
     "metadata": {},
     "output_type": "execute_result"
    }
   ],
   "source": [
    "obs.frbcat[0:5]"
   ]
  },
  {
   "cell_type": "markdown",
   "metadata": {
    "collapsed": true
   },
   "source": [
    "----"
   ]
  },
  {
   "cell_type": "markdown",
   "metadata": {},
   "source": [
    "# For Sky"
   ]
  },
  {
   "cell_type": "code",
   "execution_count": 15,
   "metadata": {},
   "outputs": [
    {
     "name": "stdout",
     "output_type": "stream",
     "text": [
      "Using /home/xavier/Projects/FRB/frb/data/FRBs/frbcat_2019-12-07.csv for the FRB catalog\n"
     ]
    }
   ],
   "source": [
    "obs = ffcat.FRBCat()"
   ]
  },
  {
   "cell_type": "code",
   "execution_count": 19,
   "metadata": {},
   "outputs": [],
   "source": [
    "obs.frbcat.sort('utc')"
   ]
  },
  {
   "cell_type": "code",
   "execution_count": 21,
   "metadata": {},
   "outputs": [],
   "source": [
    "obs.frbcat.write('sky_tbl.fits')"
   ]
  },
  {
   "cell_type": "code",
   "execution_count": null,
   "metadata": {},
   "outputs": [],
   "source": []
  }
 ],
 "metadata": {
  "kernelspec": {
   "display_name": "Python 3",
   "language": "python",
   "name": "python3"
  },
  "language_info": {
   "codemirror_mode": {
    "name": "ipython",
    "version": 3
   },
   "file_extension": ".py",
   "mimetype": "text/x-python",
   "name": "python",
   "nbconvert_exporter": "python",
   "pygments_lexer": "ipython3",
   "version": "3.7.3"
  }
 },
 "nbformat": 4,
 "nbformat_minor": 2
}
