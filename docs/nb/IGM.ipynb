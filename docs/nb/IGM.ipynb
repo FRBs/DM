{
 "cells": [
  {
   "cell_type": "markdown",
   "metadata": {},
   "source": [
    "# Calculations related to the IGM [v1]\n",
    "    These will be presented in a forthcoming paper:  Simha & Prochaska (2019)"
   ]
  },
  {
   "cell_type": "code",
   "execution_count": 1,
   "metadata": {
    "collapsed": true
   },
   "outputs": [],
   "source": [
    "#%matplotlib notebook"
   ]
  },
  {
   "cell_type": "code",
   "execution_count": 2,
   "metadata": {
    "collapsed": true
   },
   "outputs": [],
   "source": [
    "# imports\n",
    "from importlib import reload\n",
    "import numpy as np\n",
    "import os\n",
    "\n",
    "from pkg_resources import resource_filename\n",
    "\n",
    "from matplotlib import pyplot as plt\n",
    "\n",
    "from astropy import units\n",
    "from astropy.table import Table\n",
    "from astropy.cosmology import Planck15\n",
    "\n",
    "from frb import igm"
   ]
  },
  {
   "cell_type": "markdown",
   "metadata": {},
   "source": [
    "## Stellar mass (baryons locked up)"
   ]
  },
  {
   "cell_type": "code",
   "execution_count": 3,
   "metadata": {},
   "outputs": [],
   "source": [
    "#stellar_mass_file = resource_filename('frb', 'data/IGM/stellarmass.dat')\n",
    "stellar_mass_file = resource_filename('frb', os.path.join('data','IGM','stellarmass.dat'))"
   ]
  },
  {
   "cell_type": "code",
   "execution_count": 4,
   "metadata": {
    "collapsed": true
   },
   "outputs": [],
   "source": [
    "rho_mstar_tbl = Table.read(stellar_mass_file, format='ascii')"
   ]
  },
  {
   "cell_type": "code",
   "execution_count": 5,
   "metadata": {},
   "outputs": [
    {
     "data": {
      "text/html": [
       "<i>Table length=5</i>\n",
       "<table id=\"table139634690677000\" class=\"table-striped table-bordered table-condensed\">\n",
       "<thead><tr><th>z</th><th>t_Gyr</th><th>rho_Mstar</th></tr></thead>\n",
       "<thead><tr><th>float64</th><th>float64</th><th>float64</th></tr></thead>\n",
       "<tr><td>0.0</td><td>13.48</td><td>576600000.0</td></tr>\n",
       "<tr><td>0.1</td><td>12.18</td><td>560400000.0</td></tr>\n",
       "<tr><td>0.2</td><td>11.05</td><td>542400000.0</td></tr>\n",
       "<tr><td>0.3</td><td>10.06</td><td>522900000.0</td></tr>\n",
       "<tr><td>0.4</td><td>9.194</td><td>501900000.0</td></tr>\n",
       "</table>"
      ],
      "text/plain": [
       "<Table length=5>\n",
       "   z     t_Gyr   rho_Mstar \n",
       "float64 float64   float64  \n",
       "------- ------- -----------\n",
       "    0.0   13.48 576600000.0\n",
       "    0.1   12.18 560400000.0\n",
       "    0.2   11.05 542400000.0\n",
       "    0.3   10.06 522900000.0\n",
       "    0.4   9.194 501900000.0"
      ]
     },
     "execution_count": 5,
     "metadata": {},
     "output_type": "execute_result"
    }
   ],
   "source": [
    "rho_mstar_tbl[0:5]"
   ]
  },
  {
   "cell_type": "markdown",
   "metadata": {},
   "source": [
    "### Method"
   ]
  },
  {
   "cell_type": "code",
   "execution_count": 6,
   "metadata": {
    "collapsed": true
   },
   "outputs": [],
   "source": [
    "zval = np.linspace(0., 4., 100)\n",
    "rho_Mstar = igm.avg_rhoMstar(zval, remnants=False)"
   ]
  },
  {
   "cell_type": "code",
   "execution_count": 7,
   "metadata": {
    "scrolled": false
   },
   "outputs": [
    {
     "data": {
      "image/png": "[encoded data removed]",
      "text/plain": [
       "<Figure size 432x288 with 1 Axes>"
      ]
     },
     "metadata": {},
     "output_type": "display_data"
    }
   ],
   "source": [
    "plt.clf()\n",
    "ax = plt.gca()\n",
    "ax.plot(zval, np.log10(rho_Mstar.value))\n",
    "# Label\n",
    "ax.set_xlabel('z')\n",
    "ax.set_ylabel(r'$\\log \\, \\rho_* \\; [M_\\odot/ \\rm Mpc^3]$ ')\n",
    "plt.show()"
   ]
  },
  {
   "cell_type": "markdown",
   "metadata": {},
   "source": [
    "### Following Fukugita 2004 (Table 1)"
   ]
  },
  {
   "cell_type": "code",
   "execution_count": 8,
   "metadata": {
    "collapsed": true
   },
   "outputs": [],
   "source": [
    "M_sphere = 0.0015\n",
    "M_disk = 0.00055\n",
    "M_WD = 0.00036\n",
    "M_NS = 0.00005\n",
    "M_BH = 0.00007\n",
    "M_BD = 0.00014"
   ]
  },
  {
   "cell_type": "code",
   "execution_count": 9,
   "metadata": {},
   "outputs": [
    {
     "data": {
      "text/plain": [
       "0.30243902439024395"
      ]
     },
     "execution_count": 9,
     "metadata": {},
     "output_type": "execute_result"
    }
   ],
   "source": [
    "f_remnants = (M_WD+M_NS+M_BH+M_BD) / (M_sphere+M_disk)\n",
    "f_remnants"
   ]
  },
  {
   "cell_type": "code",
   "execution_count": 10,
   "metadata": {
    "collapsed": true
   },
   "outputs": [],
   "source": [
    "rho_Mstar_full = igm.avg_rhoMstar(zval, remnants=True)"
   ]
  },
  {
   "cell_type": "code",
   "execution_count": 11,
   "metadata": {},
   "outputs": [
    {
     "data": {
      "image/png": "[encoded data removed]",
      "text/plain": [
       "<Figure size 432x288 with 1 Axes>"
      ]
     },
     "metadata": {},
     "output_type": "display_data"
    }
   ],
   "source": [
    "plt.clf()\n",
    "ax = plt.gca()\n",
    "ax.plot(zval, np.log10(rho_Mstar.value), label='No Remnants')\n",
    "ax.plot(zval, np.log10(rho_Mstar_full.value), label='With Remnants')\n",
    "# Label\n",
    "ax.set_xlabel('z')\n",
    "ax.set_ylabel(r'$\\log \\, \\rho_* \\; [M_\\odot/ \\rm Mpc^3]$ ')\n",
    "# Legend\n",
    "legend = plt.legend(loc='upper right', scatterpoints=1, borderpad=0.2,\n",
    "                       handletextpad=0.1, fontsize='large')\n",
    "plt.show()"
   ]
  },
  {
   "cell_type": "markdown",
   "metadata": {},
   "source": [
    "## ISM"
   ]
  },
  {
   "cell_type": "markdown",
   "metadata": {},
   "source": [
    "### $z=0$  -- Fukugita 2004"
   ]
  },
  {
   "cell_type": "code",
   "execution_count": 12,
   "metadata": {
    "collapsed": true
   },
   "outputs": [],
   "source": [
    "M_HI = 0.00062\n",
    "M_H2 = 0.00016\n",
    "M_ISM = M_HI + M_H2"
   ]
  },
  {
   "cell_type": "code",
   "execution_count": 13,
   "metadata": {},
   "outputs": [
    {
     "data": {
      "text/plain": [
       "0.38048780487804873"
      ]
     },
     "execution_count": 13,
     "metadata": {},
     "output_type": "execute_result"
    }
   ],
   "source": [
    "M_ISM/(M_sphere+M_disk)"
   ]
  },
  {
   "cell_type": "markdown",
   "metadata": {},
   "source": [
    "### $z>0$ -- Could use DLAs and [silly] K-S relation\n",
    "    For now, assume M_ISM = M* at z>1"
   ]
  },
  {
   "cell_type": "markdown",
   "metadata": {},
   "source": [
    "### Do it"
   ]
  },
  {
   "cell_type": "code",
   "execution_count": 14,
   "metadata": {
    "collapsed": true
   },
   "outputs": [],
   "source": [
    "rhoISM = igm.avg_rhoISM(zval)"
   ]
  },
  {
   "cell_type": "code",
   "execution_count": 15,
   "metadata": {},
   "outputs": [
    {
     "data": {
      "image/png": "[encoded data removed]",
      "text/plain": [
       "<Figure size 432x288 with 1 Axes>"
      ]
     },
     "metadata": {},
     "output_type": "display_data"
    }
   ],
   "source": [
    "plt.clf()\n",
    "ax = plt.gca()\n",
    "ax.plot(zval, np.log10(rhoISM.value), label='ISM')\n",
    "ax.plot(zval, np.log10(rho_Mstar_full.value), label='M*')\n",
    "# Label\n",
    "ax.set_xlabel('z')\n",
    "ax.set_ylabel(r'$\\log \\, \\rho \\; [M_\\odot/ \\rm Mpc^3]$ ')\n",
    "# Legend\n",
    "legend = plt.legend(loc='upper right', scatterpoints=1, borderpad=0.2,\n",
    "                       handletextpad=0.1, fontsize='large')\n",
    "plt.show()"
   ]
  },
  {
   "cell_type": "markdown",
   "metadata": {},
   "source": [
    "## $Y$ -- Helium\n",
    "    https://arxiv.org/abs/1807.09774"
   ]
  },
  {
   "cell_type": "code",
   "execution_count": 16,
   "metadata": {
    "collapsed": true
   },
   "outputs": [],
   "source": [
    "#He_file = resource_filename('frb', 'data/IGM/qheIII.txt')\n",
    "He_file = resource_filename('frb', os.path.join('data','IGM','qheIII.txt'))"
   ]
  },
  {
   "cell_type": "code",
   "execution_count": 17,
   "metadata": {
    "collapsed": true
   },
   "outputs": [],
   "source": [
    "qHeIII = Table.read(He_file, format='ascii')"
   ]
  },
  {
   "cell_type": "code",
   "execution_count": 18,
   "metadata": {},
   "outputs": [
    {
     "data": {
      "text/html": [
       "<i>Table length=833</i>\n",
       "<table id=\"table139633856316808\" class=\"table-striped table-bordered table-condensed\">\n",
       "<thead><tr><th>z</th><th>Q_HeIII_18</th><th>Q_HeIII_18_l</th><th>Q_HeIII_18_u</th><th>Q_HeIII_21</th><th>Q_HeIII_21_l</th><th>Q_HeIII_21_u</th></tr></thead>\n",
       "<thead><tr><th>float64</th><th>float64</th><th>float64</th><th>float64</th><th>float64</th><th>float64</th><th>float64</th></tr></thead>\n",
       "<tr><td>12.0</td><td>1e-10</td><td>1e-10</td><td>1e-10</td><td>1e-10</td><td>1e-10</td><td>1e-10</td></tr>\n",
       "<tr><td>11.988</td><td>4.374927e-09</td><td>2.218632e-10</td><td>1.508848e-07</td><td>1.860788e-09</td><td>2.667322e-10</td><td>1.104288e-08</td></tr>\n",
       "<tr><td>11.976</td><td>8.743113e-09</td><td>3.519406e-10</td><td>3.034705e-07</td><td>3.67851e-09</td><td>4.431452e-10</td><td>2.215664e-08</td></tr>\n",
       "<tr><td>11.964</td><td>1.320629e-08</td><td>4.904414e-10</td><td>4.578895e-07</td><td>5.554472e-09</td><td>6.294819e-10</td><td>3.344437e-08</td></tr>\n",
       "<tr><td>11.952</td><td>1.776445e-08</td><td>6.373657e-10</td><td>6.141419e-07</td><td>7.488672e-09</td><td>8.257424e-10</td><td>4.490605e-08</td></tr>\n",
       "<tr><td>11.94</td><td>2.24176e-08</td><td>7.927134e-10</td><td>7.722276e-07</td><td>9.48111e-09</td><td>1.031927e-09</td><td>5.654171e-08</td></tr>\n",
       "<tr><td>11.928</td><td>2.716575e-08</td><td>9.564846e-10</td><td>9.321466e-07</td><td>1.153179e-08</td><td>1.248034e-09</td><td>6.835133e-08</td></tr>\n",
       "<tr><td>11.916</td><td>3.200887e-08</td><td>1.128679e-09</td><td>1.093899e-06</td><td>1.36407e-08</td><td>1.474066e-09</td><td>8.033491e-08</td></tr>\n",
       "<tr><td>11.904</td><td>3.694699e-08</td><td>1.309297e-09</td><td>1.257485e-06</td><td>1.580786e-08</td><td>1.710021e-09</td><td>9.249246e-08</td></tr>\n",
       "<tr><td>11.892</td><td>4.19801e-08</td><td>1.498339e-09</td><td>1.422904e-06</td><td>1.803325e-08</td><td>1.955901e-09</td><td>1.04824e-07</td></tr>\n",
       "<tr><td>...</td><td>...</td><td>...</td><td>...</td><td>...</td><td>...</td><td>...</td></tr>\n",
       "<tr><td>2.114</td><td>1.0</td><td>1.0</td><td>1.0</td><td>1.0</td><td>1.0</td><td>1.0</td></tr>\n",
       "<tr><td>2.102</td><td>1.0</td><td>1.0</td><td>1.0</td><td>1.0</td><td>1.0</td><td>1.0</td></tr>\n",
       "<tr><td>2.09</td><td>1.0</td><td>1.0</td><td>1.0</td><td>1.0</td><td>1.0</td><td>1.0</td></tr>\n",
       "<tr><td>2.078</td><td>1.0</td><td>1.0</td><td>1.0</td><td>1.0</td><td>1.0</td><td>1.0</td></tr>\n",
       "<tr><td>2.066</td><td>1.0</td><td>1.0</td><td>1.0</td><td>1.0</td><td>1.0</td><td>1.0</td></tr>\n",
       "<tr><td>2.054</td><td>1.0</td><td>1.0</td><td>1.0</td><td>1.0</td><td>1.0</td><td>1.0</td></tr>\n",
       "<tr><td>2.042</td><td>1.0</td><td>1.0</td><td>1.0</td><td>1.0</td><td>1.0</td><td>1.0</td></tr>\n",
       "<tr><td>2.03</td><td>1.0</td><td>1.0</td><td>1.0</td><td>1.0</td><td>1.0</td><td>1.0</td></tr>\n",
       "<tr><td>2.018</td><td>1.0</td><td>1.0</td><td>1.0</td><td>1.0</td><td>1.0</td><td>1.0</td></tr>\n",
       "<tr><td>2.006</td><td>1.0</td><td>1.0</td><td>1.0</td><td>1.0</td><td>1.0</td><td>1.0</td></tr>\n",
       "</table>"
      ],
      "text/plain": [
       "<Table length=833>\n",
       "   z     Q_HeIII_18  Q_HeIII_18_l ...  Q_HeIII_21  Q_HeIII_21_l Q_HeIII_21_u\n",
       "float64   float64      float64    ...   float64      float64      float64   \n",
       "------- ------------ ------------ ... ------------ ------------ ------------\n",
       "   12.0        1e-10        1e-10 ...        1e-10        1e-10        1e-10\n",
       " 11.988 4.374927e-09 2.218632e-10 ... 1.860788e-09 2.667322e-10 1.104288e-08\n",
       " 11.976 8.743113e-09 3.519406e-10 ...  3.67851e-09 4.431452e-10 2.215664e-08\n",
       " 11.964 1.320629e-08 4.904414e-10 ... 5.554472e-09 6.294819e-10 3.344437e-08\n",
       " 11.952 1.776445e-08 6.373657e-10 ... 7.488672e-09 8.257424e-10 4.490605e-08\n",
       "  11.94  2.24176e-08 7.927134e-10 ...  9.48111e-09 1.031927e-09 5.654171e-08\n",
       " 11.928 2.716575e-08 9.564846e-10 ... 1.153179e-08 1.248034e-09 6.835133e-08\n",
       " 11.916 3.200887e-08 1.128679e-09 ...  1.36407e-08 1.474066e-09 8.033491e-08\n",
       " 11.904 3.694699e-08 1.309297e-09 ... 1.580786e-08 1.710021e-09 9.249246e-08\n",
       " 11.892  4.19801e-08 1.498339e-09 ... 1.803325e-08 1.955901e-09  1.04824e-07\n",
       "    ...          ...          ... ...          ...          ...          ...\n",
       "  2.114          1.0          1.0 ...          1.0          1.0          1.0\n",
       "  2.102          1.0          1.0 ...          1.0          1.0          1.0\n",
       "   2.09          1.0          1.0 ...          1.0          1.0          1.0\n",
       "  2.078          1.0          1.0 ...          1.0          1.0          1.0\n",
       "  2.066          1.0          1.0 ...          1.0          1.0          1.0\n",
       "  2.054          1.0          1.0 ...          1.0          1.0          1.0\n",
       "  2.042          1.0          1.0 ...          1.0          1.0          1.0\n",
       "   2.03          1.0          1.0 ...          1.0          1.0          1.0\n",
       "  2.018          1.0          1.0 ...          1.0          1.0          1.0\n",
       "  2.006          1.0          1.0 ...          1.0          1.0          1.0"
      ]
     },
     "execution_count": 18,
     "metadata": {},
     "output_type": "execute_result"
    }
   ],
   "source": [
    "qHeIII"
   ]
  },
  {
   "cell_type": "markdown",
   "metadata": {},
   "source": [
    "### Plot"
   ]
  },
  {
   "cell_type": "code",
   "execution_count": 19,
   "metadata": {},
   "outputs": [
    {
     "data": {
      "image/png": "[encoded data removed]",
      "text/plain": [
       "<Figure size 432x288 with 1 Axes>"
      ]
     },
     "metadata": {},
     "output_type": "display_data"
    }
   ],
   "source": [
    "plt.clf()\n",
    "ax=plt.gca()\n",
    "ax.plot(qHeIII['z'], qHeIII['Q_HeIII_18'])\n",
    "#\n",
    "ax.set_xlabel('z')\n",
    "ax.set_ylabel('f(HeIII)')\n",
    "#\n",
    "plt.show()"
   ]
  },
  {
   "cell_type": "markdown",
   "metadata": {},
   "source": [
    "## DM -- Piece by piece (as coded)"
   ]
  },
  {
   "cell_type": "markdown",
   "metadata": {},
   "source": [
    "### $\\rho_b = \\Omega_b \\rho_c (1+z)^3$"
   ]
  },
  {
   "cell_type": "markdown",
   "metadata": {},
   "source": [
    "### $\\rho_{\\rm diffuse} = \\rho_b - (\\rho_* + \\rho_{\\rm ISM})$\n",
    "\n",
    "\n",
    "#### $\\rho_*$ is the mass density in stars\n",
    "\n",
    "#### $\\rho_{\\rm ISM}$ is the mass density in the neutral ISM"
   ]
  },
  {
   "cell_type": "markdown",
   "metadata": {},
   "source": [
    "### Number densities\n",
    "\n",
    "### $n_{\\rm H} = \\rho_{\\rm diffuse}/(m_p \\, \\mu)$\n",
    "\n",
    "#### $\\mu \\approx 1.3$ accounts for Helium\n",
    "\n",
    "### $n_{\\rm He} = n_{\\rm H}/12$"
   ]
  },
  {
   "cell_type": "markdown",
   "metadata": {},
   "source": [
    "### $n_e = n_{\\rm H} [1-f_{\\rm HI}] + n_{\\rm He} Y$\n",
    "\n",
    "#### $f_{\\rm HI}$ is the fraction atomic Hydrogen [value betwee 0-1]\n",
    "\n",
    "#### $Y$ gives the number of free electrons per He nucleus  [value between 0-2]"
   ]
  },
  {
   "cell_type": "markdown",
   "metadata": {},
   "source": [
    "### Integrating\n",
    "\n",
    "### $DM = \\int \\frac{n_e \\, dr}{1+z} = \\frac{c}{H_0} \\int \\frac{n_e \\, dz}{(1+z)^2 \\sqrt{(1+z)^3 \\Omega_m + \n",
    "                                                                                 \\Omega_\\Lambda}}$"
   ]
  },
  {
   "cell_type": "markdown",
   "metadata": {},
   "source": [
    "## DM -- Altogether (using the code)"
   ]
  },
  {
   "cell_type": "code",
   "execution_count": 20,
   "metadata": {},
   "outputs": [
    {
     "data": {
      "text/latex": [
       "$1053.0827 \\; \\mathrm{\\frac{pc}{cm^{3}}}$"
      ],
      "text/plain": [
       "<Quantity 1053.08269893 pc / cm3>"
      ]
     },
     "execution_count": 20,
     "metadata": {},
     "output_type": "execute_result"
    }
   ],
   "source": [
    "reload(igm)\n",
    "DM = igm.average_DM(1.)\n",
    "DM"
   ]
  },
  {
   "cell_type": "markdown",
   "metadata": {},
   "source": [
    "### Cumulative plot"
   ]
  },
  {
   "cell_type": "code",
   "execution_count": 21,
   "metadata": {
    "collapsed": true
   },
   "outputs": [],
   "source": [
    "DM_cumul, zeval = igm.average_DM(1., cumul=True)"
   ]
  },
  {
   "cell_type": "code",
   "execution_count": 22,
   "metadata": {
    "collapsed": true
   },
   "outputs": [],
   "source": [
    "# Inoue approximation\n",
    "DM_approx = 1000. * zeval * units.pc / units.cm**3"
   ]
  },
  {
   "cell_type": "code",
   "execution_count": 23,
   "metadata": {},
   "outputs": [
    {
     "data": {
      "image/png": "[encoded data removed]",
      "text/plain": [
       "<Figure size 432x288 with 1 Axes>"
      ]
     },
     "metadata": {},
     "output_type": "display_data"
    }
   ],
   "source": [
    "plt.clf()\n",
    "ax = plt.gca()\n",
    "ax.plot(zeval, DM_cumul, label='JXP')\n",
    "ax.plot(zeval, DM_approx, label='Approx')\n",
    "# Label\n",
    "ax.set_xlabel('z')\n",
    "ax.set_ylabel(r'${\\rm DM}_{\\rm IGM} [\\rm pc / cm^3]$ ')\n",
    "# Legend\n",
    "legend = plt.legend(loc='lower right', scatterpoints=1, borderpad=0.2,\n",
    "                       handletextpad=0.1, fontsize='large')\n",
    "plt.show()"
   ]
  },
  {
   "cell_type": "code",
   "execution_count": 24,
   "metadata": {},
   "outputs": [
    {
     "data": {
      "image/png": "[encoded data removed]",
      "text/plain": [
       "<Figure size 432x288 with 1 Axes>"
      ]
     },
     "metadata": {},
     "output_type": "display_data"
    }
   ],
   "source": [
    "plt.clf()\n",
    "ax = plt.gca()\n",
    "ax.plot(zeval, DM_approx/DM_cumul, label='Approx/JXP')\n",
    "#ax.plot(zeval, DM_approx, label='Approx')\n",
    "# Label\n",
    "ax.set_xlabel('z')\n",
    "ax.set_ylabel(r'Ratio of ${\\rm DM}_{\\rm IGM} [\\rm pc / cm^3]$ ')\n",
    "# Legend\n",
    "legend = plt.legend(loc='upper right', scatterpoints=1, borderpad=0.2,\n",
    "                       handletextpad=0.1, fontsize='large')\n",
    "plt.show()"
   ]
  },
  {
   "cell_type": "code",
   "execution_count": 25,
   "metadata": {},
   "outputs": [
    {
     "data": {
      "text/latex": [
       "$[0.083956468,~0.16792254,~0.25189822,~0.3358835,~0.41987839,~0.50388286,~0.58789694,~0.6719206,~0.75595385,~0.83999669] \\; \\mathrm{\\frac{pc}{cm^{3}}}$"
      ],
      "text/plain": [
       "<Quantity [0.08395647, 0.16792254, 0.25189822, 0.3358835 , 0.41987839,\n",
       "           0.50388286, 0.58789694, 0.6719206 , 0.75595385, 0.83999669] pc / cm3>"
      ]
     },
     "execution_count": 25,
     "metadata": {},
     "output_type": "execute_result"
    }
   ],
   "source": [
    "DM_cumul[0:10]"
   ]
  },
  {
   "cell_type": "code",
   "execution_count": 26,
   "metadata": {},
   "outputs": [
    {
     "data": {
      "text/latex": [
       "$[0.10001,~0.20002,~0.30003,~0.40004,~0.50005001,~0.60006001,~0.70007001,~0.80008001,~0.90009001,~1.0001] \\; \\mathrm{\\frac{pc}{cm^{3}}}$"
      ],
      "text/plain": [
       "<Quantity [0.10001   , 0.20002   , 0.30003   , 0.40004   , 0.50005001,\n",
       "           0.60006001, 0.70007001, 0.80008001, 0.90009001, 1.00010001] pc / cm3>"
      ]
     },
     "execution_count": 26,
     "metadata": {},
     "output_type": "execute_result"
    }
   ],
   "source": [
    "DM_approx[0:10]"
   ]
  },
  {
   "cell_type": "code",
   "execution_count": 27,
   "metadata": {},
   "outputs": [
    {
     "data": {
      "text/plain": [
       "0.00010001000100010001"
      ]
     },
     "execution_count": 27,
     "metadata": {},
     "output_type": "execute_result"
    }
   ],
   "source": [
    "zeval[0]"
   ]
  },
  {
   "cell_type": "markdown",
   "metadata": {},
   "source": [
    "----"
   ]
  },
  {
   "cell_type": "markdown",
   "metadata": {},
   "source": [
    "## Development"
   ]
  }
 ],
 "metadata": {
  "kernelspec": {
   "display_name": "Python 3",
   "language": "python",
   "name": "python3"
  },
  "language_info": {
   "codemirror_mode": {
    "name": "ipython",
    "version": 3
   },
   "file_extension": ".py",
   "mimetype": "text/x-python",
   "name": "python",
   "nbconvert_exporter": "python",
   "pygments_lexer": "ipython3",
   "version": "3.6.5"
  }
 },
 "nbformat": 4,
 "nbformat_minor": 2
}
